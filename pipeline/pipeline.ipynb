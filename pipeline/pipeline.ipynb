{
 "cells": [
  {
   "cell_type": "code",
   "execution_count": 2,
   "id": "50520278",
   "metadata": {},
   "outputs": [],
   "source": [
    "from base import Graph"
   ]
  },
  {
   "cell_type": "code",
   "execution_count": 3,
   "id": "90ffa958",
   "metadata": {},
   "outputs": [],
   "source": [
    "pipeline = Graph()\n",
    "\n",
    "@pipeline.register(inputs='D', outputs='G')\n",
    "def aze():\n",
    "    pass\n",
    "\n",
    "@pipeline.register(inputs='A', outputs='B')\n",
    "def foo():\n",
    "    pass\n",
    "\n",
    "@pipeline.register(inputs=('B', 'C'), outputs='E')\n",
    "def clk():\n",
    "    pass\n",
    "\n",
    "@pipeline.register(inputs='B', outputs='D')\n",
    "def fun():\n",
    "    pass\n",
    "\n",
    "\n",
    "@pipeline.register(inputs=('A',), outputs='C')\n",
    "def bar():\n",
    "    pass"
   ]
  },
  {
   "cell_type": "code",
   "execution_count": 4,
   "id": "8f0624c0",
   "metadata": {},
   "outputs": [
    {
     "name": "stdout",
     "output_type": "stream",
     "text": [
      "Start with {'A'}\n",
      "-2: ('A',) -- <function foo at 0x000001F8162FC5E0> --> ('B',)\n",
      "-2: ('A',) -- <function bar at 0x000001F8162FC700> --> ('C',)\n",
      "-1: ('B', 'C') -- <function clk at 0x000001F8162FC430> --> ('E',)\n",
      "-1: ('B',) -- <function fun at 0x000001F8162FC790> --> ('D',)\n",
      "0: ('D',) -- <function aze at 0x000001F8162FC040> --> ('G',)\n"
     ]
    }
   ],
   "source": [
    "pipeline.execute()"
   ]
  }
 ],
 "metadata": {
  "kernelspec": {
   "display_name": "Python 3 (ipykernel)",
   "language": "python",
   "name": "python3"
  },
  "language_info": {
   "codemirror_mode": {
    "name": "ipython",
    "version": 3
   },
   "file_extension": ".py",
   "mimetype": "text/x-python",
   "name": "python",
   "nbconvert_exporter": "python",
   "pygments_lexer": "ipython3",
   "version": "3.10.8"
  }
 },
 "nbformat": 4,
 "nbformat_minor": 5
}
