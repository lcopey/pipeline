{
 "cells": [
  {
   "cell_type": "code",
   "execution_count": 3,
   "id": "e5cefa0d",
   "metadata": {
    "tags": []
   },
   "outputs": [],
   "source": [
    "from functools import wraps, cached_property\n",
    "from dataclasses import dataclass\n",
    "import networkx as nx\n",
    "from typing import Iterable, Callable\n",
    "from itertools import product"
   ]
  },
  {
   "cell_type": "code",
   "execution_count": 4,
   "id": "bdc5093b",
   "metadata": {
    "tags": []
   },
   "outputs": [],
   "source": [
    "class Pipeline():\n",
    "    def __init__(self,):\n",
    "        self.graph = nx.DiGraph()\n",
    "        self.line_graph = None\n",
    "        self.node_order = None\n",
    "        self.funcs = {}\n",
    "        self.executed = {}\n",
    "        \n",
    "    def register(self, inputs: str | Iterable[str], outputs: str | Iterable[str]):\n",
    "        inputs = list(inputs)\n",
    "        outputs = list(outputs)\n",
    "        def inner(func):\n",
    "            for edge in product(inputs, outputs):\n",
    "                func_id = id(func)\n",
    "                self.graph.add_edge(*edge, func=func_id)\n",
    "                self.funcs[func_id] = func\n",
    "                self.executed[func_id] = False\n",
    "\n",
    "        return inner\n",
    "    \n",
    "    def _sort(self):\n",
    "        H = nx.line_graph(self.graph)\n",
    "        H.add_nodes_from((node, self.graph.edges[node]) for node in H)\n",
    "        self.line_graph = H\n",
    "        self.node_order = nx.topological_sort(H)\n",
    "        \n",
    "    def _clear(self):\n",
    "        for func_id in self:\n",
    "            self.executed[func_id] = False\n",
    "        \n",
    "    def execute(self):\n",
    "        if self.line_graph is None:\n",
    "            self._sort()\n",
    "            \n",
    "        for func_id in self:\n",
    "            print(func_id)\n",
    "            if not self.executed[func_id]:\n",
    "                self.executed[func_id] = True\n",
    "                print(self.funcs[func_id]) \n",
    "        \n",
    "        self._clear()\n",
    "                \n",
    "    def __iter__(self):\n",
    "        if self.line_graph is None:\n",
    "            self._sort()\n",
    "        for node in self.node_order:\n",
    "             yield self.line_graph.nodes[node]['func']"
   ]
  },
  {
   "cell_type": "code",
   "execution_count": 5,
   "id": "c4cc440a",
   "metadata": {
    "tags": []
   },
   "outputs": [],
   "source": [
    "pipeline = Pipeline()"
   ]
  },
  {
   "cell_type": "code",
   "execution_count": 6,
   "id": "c7a7808c",
   "metadata": {
    "tags": []
   },
   "outputs": [],
   "source": [
    "@pipeline.register(inputs='D', outputs='G')\n",
    "def aze():\n",
    "    pass\n",
    "\n",
    "@pipeline.register(inputs='A', outputs='B')\n",
    "def foo():\n",
    "    pass\n",
    "\n",
    "@pipeline.register(inputs=('B', 'C'), outputs='E')\n",
    "def clk():\n",
    "    pass\n",
    "\n",
    "@pipeline.register(inputs='B', outputs='D')\n",
    "def fun():\n",
    "    pass\n",
    "\n",
    "\n",
    "@pipeline.register(inputs=('A',), outputs='C')\n",
    "def bar():\n",
    "    pass"
   ]
  },
  {
   "cell_type": "code",
   "execution_count": 7,
   "id": "02cb65ff",
   "metadata": {
    "tags": []
   },
   "outputs": [
    {
     "name": "stdout",
     "output_type": "stream",
     "text": [
      "140149517280464\n",
      "<function foo at 0x7f771a3164d0>\n",
      "140149517280896\n",
      "<function bar at 0x7f771a316680>\n",
      "140149517280608\n",
      "<function clk at 0x7f771a316560>\n",
      "140149517280752\n",
      "<function fun at 0x7f771a3165f0>\n",
      "140149517280608\n",
      "140149517280320\n",
      "<function aze at 0x7f771a316440>\n"
     ]
    }
   ],
   "source": [
    "pipeline.execute()"
   ]
  },
  {
   "cell_type": "code",
   "execution_count": 8,
   "id": "8471e3be",
   "metadata": {
    "tags": []
   },
   "outputs": [
    {
     "data": {
      "text/plain": [
       "EdgeDataView([(0, 1, {'tot': 1}), (1, 2, {'tot': 3}), (2, 3, {'tot': 5})])"
      ]
     },
     "execution_count": 8,
     "metadata": {},
     "output_type": "execute_result"
    }
   ],
   "source": [
    "G = nx.path_graph(4)\n",
    "G.add_edges_from((u, v, {\"tot\": u+v}) for u, v in G.edges)\n",
    "G.edges(data=True)"
   ]
  },
  {
   "cell_type": "code",
   "execution_count": 9,
   "id": "4035ee6f",
   "metadata": {
    "tags": []
   },
   "outputs": [
    {
     "data": {
      "text/plain": [
       "NodeDataView({('D', 'G'): {'func': 140149517280320}, ('A', 'B'): {'func': 140149517280464}, ('B', 'E'): {'func': 140149517280608}, ('B', 'D'): {'func': 140149517280752}, ('A', 'C'): {'func': 140149517280896}, ('C', 'E'): {'func': 140149517280608}})"
      ]
     },
     "execution_count": 9,
     "metadata": {},
     "output_type": "execute_result"
    }
   ],
   "source": [
    "H = nx.line_graph(pipeline.graph)\n",
    "H.add_nodes_from((node, pipeline.graph.edges[node]) for node in H)\n",
    "H.nodes(data=True)"
   ]
  },
  {
   "cell_type": "code",
   "execution_count": 10,
   "id": "d943042d",
   "metadata": {
    "tags": []
   },
   "outputs": [
    {
     "data": {
      "text/plain": [
       "[('A', 'B'), ('A', 'C'), ('B', 'E'), ('B', 'D'), ('C', 'E'), ('D', 'G')]"
      ]
     },
     "execution_count": 10,
     "metadata": {},
     "output_type": "execute_result"
    }
   ],
   "source": [
    "list(nx.topological_sort(nx.line_graph(pipeline.graph)))"
   ]
  },
  {
   "cell_type": "code",
   "execution_count": 11,
   "id": "8f8c5beb",
   "metadata": {
    "tags": []
   },
   "outputs": [
    {
     "data": {
      "text/plain": [
       "[('A', 'B'), ('A', 'C'), ('B', 'E'), ('B', 'D'), ('C', 'E'), ('D', 'G')]"
      ]
     },
     "execution_count": 11,
     "metadata": {},
     "output_type": "execute_result"
    }
   ],
   "source": [
    "list(nx.topological_sort(H))"
   ]
  },
  {
   "cell_type": "code",
   "execution_count": 12,
   "id": "3b0c7564",
   "metadata": {
    "tags": []
   },
   "outputs": [
    {
     "data": {
      "text/plain": [
       "{'func': 140149517280464}"
      ]
     },
     "execution_count": 12,
     "metadata": {},
     "output_type": "execute_result"
    }
   ],
   "source": [
    "H.nodes(data=True)[('A', 'B')]"
   ]
  },
  {
   "cell_type": "code",
   "execution_count": null,
   "id": "f98ce9c3-79ab-4a3e-a1fc-d4b7ae7eea51",
   "metadata": {},
   "outputs": [],
   "source": []
  }
 ],
 "metadata": {
  "kernelspec": {
   "display_name": "Python 3 (ipykernel)",
   "language": "python",
   "name": "python3"
  },
  "language_info": {
   "codemirror_mode": {
    "name": "ipython",
    "version": 3
   },
   "file_extension": ".py",
   "mimetype": "text/x-python",
   "name": "python",
   "nbconvert_exporter": "python",
   "pygments_lexer": "ipython3",
   "version": "3.10.11"
  }
 },
 "nbformat": 4,
 "nbformat_minor": 5
}
