{
 "cells": [
  {
   "cell_type": "code",
   "execution_count": 28,
   "id": "e5cefa0d",
   "metadata": {},
   "outputs": [],
   "source": [
    "from functools import wraps, cached_property\n",
    "from dataclasses import dataclass\n",
    "import networkx as nx\n",
    "from typing import Iterable, Callable\n",
    "\n",
    "graphs = list()"
   ]
  },
  {
   "cell_type": "code",
   "execution_count": 29,
   "id": "47a6a9a8",
   "metadata": {},
   "outputs": [],
   "source": [
    "@dataclass\n",
    "class Edge:\n",
    "    inputs: Iterable\n",
    "    outputs: Iterable\n",
    "    function: Callable\n",
    "        \n",
    "    @cached_property\n",
    "    @property\n",
    "    def nodes(self):\n",
    "        return *self.inputs, *self.outputs\n",
    "    \n",
    "    @cached_property\n",
    "    @property\n",
    "    def id(self):\n",
    "        return id(self.function)"
   ]
  },
  {
   "cell_type": "code",
   "execution_count": 30,
   "id": "9441083e",
   "metadata": {},
   "outputs": [],
   "source": [
    "class Path:\n",
    "    edges: Iterable[Edge] = list\n",
    "    \n",
    "    def append(self, edge):\n",
    "        self.edges.append(edge)"
   ]
  },
  {
   "cell_type": "code",
   "execution_count": 31,
   "id": "7e56fe1c",
   "metadata": {},
   "outputs": [],
   "source": [
    "class MultiPath:\n",
    "    pass"
   ]
  },
  {
   "cell_type": "code",
   "execution_count": 33,
   "id": "b13c9b6e",
   "metadata": {},
   "outputs": [],
   "source": [
    "edge = Edge('a', ('b', 'c'), lambda x: x)"
   ]
  },
  {
   "cell_type": "code",
   "execution_count": 34,
   "id": "96af8e48",
   "metadata": {},
   "outputs": [
    {
     "ename": "TypeError",
     "evalue": "'property' object is not callable",
     "output_type": "error",
     "traceback": [
      "\u001b[1;31m---------------------------------------------------------------------------\u001b[0m",
      "\u001b[1;31mTypeError\u001b[0m                                 Traceback (most recent call last)",
      "Cell \u001b[1;32mIn[34], line 1\u001b[0m\n\u001b[1;32m----> 1\u001b[0m \u001b[43medge\u001b[49m\u001b[38;5;241;43m.\u001b[39;49m\u001b[43mnodes\u001b[49m\n",
      "File \u001b[1;32m~\\miniconda3\\envs\\base_env\\lib\\functools.py:981\u001b[0m, in \u001b[0;36mcached_property.__get__\u001b[1;34m(self, instance, owner)\u001b[0m\n\u001b[0;32m    979\u001b[0m val \u001b[38;5;241m=\u001b[39m cache\u001b[38;5;241m.\u001b[39mget(\u001b[38;5;28mself\u001b[39m\u001b[38;5;241m.\u001b[39mattrname, _NOT_FOUND)\n\u001b[0;32m    980\u001b[0m \u001b[38;5;28;01mif\u001b[39;00m val \u001b[38;5;129;01mis\u001b[39;00m _NOT_FOUND:\n\u001b[1;32m--> 981\u001b[0m     val \u001b[38;5;241m=\u001b[39m \u001b[38;5;28;43mself\u001b[39;49m\u001b[38;5;241;43m.\u001b[39;49m\u001b[43mfunc\u001b[49m\u001b[43m(\u001b[49m\u001b[43minstance\u001b[49m\u001b[43m)\u001b[49m\n\u001b[0;32m    982\u001b[0m     \u001b[38;5;28;01mtry\u001b[39;00m:\n\u001b[0;32m    983\u001b[0m         cache[\u001b[38;5;28mself\u001b[39m\u001b[38;5;241m.\u001b[39mattrname] \u001b[38;5;241m=\u001b[39m val\n",
      "\u001b[1;31mTypeError\u001b[0m: 'property' object is not callable"
     ]
    }
   ],
   "source": [
    "edge.nodes"
   ]
  },
  {
   "cell_type": "code",
   "execution_count": 2,
   "id": "b4640e14",
   "metadata": {},
   "outputs": [],
   "source": [
    "def _is_iterable(arg):\n",
    "    if not isinstance(arg, Iterable) or isinstance(arg, str):\n",
    "        return arg,\n",
    "    return arg\n",
    "\n",
    "def register(inputs, outputs):\n",
    "    inputs = _is_iterable(inputs)\n",
    "    outputs = _is_iterable(outputs)\n",
    "    def wrapper(fun):\n",
    "        edge = Edge(inputs, outputs, fun)\n",
    "        for path in paths:\n",
    "            for item in path:\n",
    "                nodes = edge.nodes\n",
    "                if nodes in item.nodes:\n",
    "                \n",
    "            \n",
    "        return fun\n",
    "    \n",
    "    return wrapper"
   ]
  },
  {
   "cell_type": "code",
   "execution_count": null,
   "id": "c91bf862",
   "metadata": {},
   "outputs": [],
   "source": [
    "@register('a', 'b')\n",
    "def foo():\n",
    "    pass"
   ]
  },
  {
   "cell_type": "code",
   "execution_count": null,
   "id": "f6c6b01f",
   "metadata": {},
   "outputs": [],
   "source": []
  }
 ],
 "metadata": {
  "kernelspec": {
   "display_name": "Python 3 (ipykernel)",
   "language": "python",
   "name": "python3"
  },
  "language_info": {
   "codemirror_mode": {
    "name": "ipython",
    "version": 3
   },
   "file_extension": ".py",
   "mimetype": "text/x-python",
   "name": "python",
   "nbconvert_exporter": "python",
   "pygments_lexer": "ipython3",
   "version": "3.10.8"
  }
 },
 "nbformat": 4,
 "nbformat_minor": 5
}
